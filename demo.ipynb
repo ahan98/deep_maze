{
 "cells": [
  {
   "cell_type": "code",
   "execution_count": 1,
   "id": "75789928-a5e5-40bd-b1b0-03ebaea4abcf",
   "metadata": {
    "tags": []
   },
   "outputs": [
    {
     "name": "stdout",
     "output_type": "stream",
     "text": [
      "input action shape = (None, 4)\n",
      "input image shape = (None, 84, 84, 1)\n",
      "Metal device set to: Apple M1\n",
      "encoded image shape = (None, 64)\n",
      "encoded action shape = (None, 64)\n",
      "output.shape = (None, 84, 84, 1)\n"
     ]
    }
   ],
   "source": [
    "from dream.dream import Dream\n",
    "from dream.memory import ReplayMemory\n",
    "from dream.util import config_class\n",
    "\n",
    "def rgb2gray(rgb):\n",
    "    r, g, b = rgb[:,:,0], rgb[:,:,1], rgb[:,:,2]\n",
    "    gray = 0.2989 * r + 0.5870 * g + 0.1140 * b\n",
    "    return gray\n",
    "\n",
    "config = config_class(\n",
    "    history_length=1,\n",
    "    batch_size=16,\n",
    "    screen_width=84,\n",
    "    screen_height=84,\n",
    "    screen_dim=1,\n",
    "    action_size=4,\n",
    "    cnn_format=\"N/A\",\n",
    "    memory_size=1000\n",
    ")\n",
    "\n",
    "memory = ReplayMemory(config)\n",
    "dream = Dream(config, memory)"
   ]
  },
  {
   "cell_type": "code",
   "execution_count": 6,
   "id": "f97c320a-5319-43c9-8fdd-67f0072715bc",
   "metadata": {
    "tags": []
   },
   "outputs": [
    {
     "data": {
      "image/png": "[encoded data removed]",
      "text/plain": [
       "<Figure size 640x480 with 1 Axes>"
      ]
     },
     "metadata": {},
     "output_type": "display_data"
    },
    {
     "name": "stdout",
     "output_type": "stream",
     "text": [
      "prestates.shape = (16, 84, 84, 1)\n",
      "poststates.shape = (16, 84, 84, 1)\n",
      "actions.shape = (16, 4)\n",
      "1/1 [==============================] - 0s 144ms/step - loss: 6472.7920 - accuracy: 0.0029\n"
     ]
    }
   ],
   "source": [
    "import random\n",
    "import numpy as np\n",
    "import cair_maze\n",
    "import gymnasium as gym\n",
    "\n",
    "env = gym.make(\"cair_maze:MazeEnv-v0\", render_mode=\"jupyter\", width=4, height=4)\n",
    "observation, info = env.reset()\n",
    "state = info[\"image\"]\n",
    "\n",
    "# for step in range(0, 1000000000000):\n",
    "for step in range(0, 100):\n",
    "    action = random.randint(0, 3)\n",
    "    observation, reward, terminal, info = env.step(action)\n",
    "    state = info[\"image\"]\n",
    "    state = np.expand_dims(rgb2gray(state), 2)\n",
    "\n",
    "    # Add sample to replay buffer\n",
    "    memory.add(state, reward, action, terminal)\n",
    "\n",
    "    # if step > 50:\n",
    "    if step > 5:\n",
    "        dream.train()\n",
    "\n",
    "    if step > 50 and step % 500 == 0:\n",
    "        dream.test()\n",
    "\n",
    "    if terminal:\n",
    "        observation, info = env.reset()\n",
    "        state = info[\"image\"]"
   ]
  }
 ],
 "metadata": {
  "kernelspec": {
   "display_name": "Python 3 (ipykernel)",
   "language": "python",
   "name": "python3"
  },
  "language_info": {
   "codemirror_mode": {
    "name": "ipython",
    "version": 3
   },
   "file_extension": ".py",
   "mimetype": "text/x-python",
   "name": "python",
   "nbconvert_exporter": "python",
   "pygments_lexer": "ipython3",
   "version": "3.10.11"
  }
 },
 "nbformat": 4,
 "nbformat_minor": 5
}
