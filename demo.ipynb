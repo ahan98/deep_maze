{
 "cells": [
  {
   "cell_type": "code",
   "execution_count": 1,
   "id": "965db1a5-8dcf-483f-96fb-31653bd8efd1",
   "metadata": {},
   "outputs": [],
   "source": [
    "import cair_maze"
   ]
  },
  {
   "cell_type": "code",
   "execution_count": 2,
   "id": "570b907a-8b46-4a1c-901f-ad53439e66da",
   "metadata": {},
   "outputs": [],
   "source": [
    "import gymnasium as gym"
   ]
  },
  {
   "cell_type": "code",
   "execution_count": 3,
   "id": "506c3747-779c-4deb-b221-568070aa5581",
   "metadata": {
    "tags": []
   },
   "outputs": [],
   "source": [
    "env = gym.make(\"cair_maze:MazeEnv-v0\", render_mode=\"human\")"
   ]
  },
  {
   "cell_type": "code",
   "execution_count": 4,
   "id": "bf33c820-b32f-4070-bbbe-c779d016b647",
   "metadata": {
    "tags": []
   },
   "outputs": [
    {
     "data": {
      "text/plain": [
       "({'agent': array([0, 4]), 'target': array([2, 0])}, {'distance': 6.0})"
      ]
     },
     "execution_count": 4,
     "metadata": {},
     "output_type": "execute_result"
    }
   ],
   "source": [
    "env.reset()"
   ]
  },
  {
   "cell_type": "code",
   "execution_count": 5,
   "id": "f89b08c7-7232-490d-9afd-798ac22987b8",
   "metadata": {
    "tags": []
   },
   "outputs": [
    {
     "name": "stdout",
     "output_type": "stream",
     "text": [
      "path = [(0, 4), (1, 4), (2, 4), (2, 3), (2, 2), (2, 1), (2, 0)]\n",
      "action = 3\n",
      "action = 3\n",
      "action = 0\n",
      "action = 0\n",
      "action = 0\n",
      "action = 0\n",
      "Shortest path took 6 moves\n"
     ]
    }
   ],
   "source": [
    "env.solve()"
   ]
  }
 ],
 "metadata": {
  "kernelspec": {
   "display_name": "Python 3 (ipykernel)",
   "language": "python",
   "name": "python3"
  },
  "language_info": {
   "codemirror_mode": {
    "name": "ipython",
    "version": 3
   },
   "file_extension": ".py",
   "mimetype": "text/x-python",
   "name": "python",
   "nbconvert_exporter": "python",
   "pygments_lexer": "ipython3",
   "version": "3.10.11"
  }
 },
 "nbformat": 4,
 "nbformat_minor": 5
}
