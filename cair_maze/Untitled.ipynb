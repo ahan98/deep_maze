{
 "cells": [
  {
   "cell_type": "code",
   "execution_count": 1,
   "id": "5e07e9fc-0295-44be-9fb9-5e51f365afa6",
   "metadata": {
    "tags": []
   },
   "outputs": [
    {
     "name": "stdout",
     "output_type": "stream",
     "text": [
      "pygame 2.1.2 (SDL 2.0.18, Python 3.10.11)\n",
      "Hello from the pygame community. https://www.pygame.org/contribute.html\n"
     ]
    }
   ],
   "source": [
    "from maze_env import MazeEnv\n",
    "import numpy as np\n",
    "from maze import Maze, ActionSpace"
   ]
  },
  {
   "cell_type": "code",
   "execution_count": 2,
   "id": "117cc92c-913f-4987-a604-21b264cb6a04",
   "metadata": {
    "tags": []
   },
   "outputs": [],
   "source": [
    "from mechanics import NormalMaze, POMDPMaze"
   ]
  },
  {
   "cell_type": "code",
   "execution_count": 3,
   "id": "58220f68-0bac-41f6-9f61-53c4dd10d4c4",
   "metadata": {
    "tags": []
   },
   "outputs": [],
   "source": [
    "env = MazeEnv(height=10, width=10, render_mode=\"human\", mode=POMDPMaze)"
   ]
  },
  {
   "cell_type": "code",
   "execution_count": 7,
   "id": "8849dbb5-37d1-4f80-a8ca-b57ee40691a0",
   "metadata": {
    "tags": []
   },
   "outputs": [
    {
     "data": {
      "text/plain": [
       "({'agent': array([3, 2]), 'target': array([2, 7])}, {'distance': 6.0})"
      ]
     },
     "execution_count": 7,
     "metadata": {},
     "output_type": "execute_result"
    }
   ],
   "source": [
    "env.reset()"
   ]
  },
  {
   "cell_type": "code",
   "execution_count": 8,
   "id": "e9cd71b5-dd6f-45e7-842b-279bb2c5cca7",
   "metadata": {
    "tags": []
   },
   "outputs": [
    {
     "name": "stdout",
     "output_type": "stream",
     "text": [
      "path = [(3, 2), (2, 2), (2, 1), (2, 0), (1, 0), (0, 0), (0, 1), (0, 2), (0, 3), (0, 4), (1, 4), (2, 4), (2, 5), (2, 6), (2, 7)]\n",
      "action = 2\n",
      "action = 0\n",
      "action = 0\n",
      "action = 2\n",
      "action = 2\n",
      "action = 1\n",
      "action = 1\n",
      "action = 1\n",
      "action = 1\n",
      "action = 3\n",
      "action = 3\n",
      "action = 1\n",
      "action = 1\n",
      "action = 1\n",
      "Shortest path took 14 moves\n"
     ]
    }
   ],
   "source": [
    "env.solve()"
   ]
  },
  {
   "cell_type": "code",
   "execution_count": 5,
   "id": "8071b4b1-7283-48dd-bcd2-2d06b2fa629c",
   "metadata": {
    "tags": []
   },
   "outputs": [
    {
     "data": {
      "text/plain": [
       "({'agent': array([4, 4]), 'target': array([7, 6])},\n",
       " 0,\n",
       " False,\n",
       " False,\n",
       " {'distance': 5.0})"
      ]
     },
     "execution_count": 5,
     "metadata": {},
     "output_type": "execute_result"
    }
   ],
   "source": [
    "env.step(2)"
   ]
  },
  {
   "cell_type": "code",
   "execution_count": 5,
   "id": "51d3b87d-3015-490b-a90b-2a79b1ea2d1b",
   "metadata": {
    "tags": []
   },
   "outputs": [
    {
     "data": {
      "text/plain": [
       "3"
      ]
     },
     "execution_count": 5,
     "metadata": {},
     "output_type": "execute_result"
    }
   ],
   "source": [
    "env.radius"
   ]
  },
  {
   "cell_type": "code",
   "execution_count": 5,
   "id": "cb9d1f1a-060e-4d92-a645-a252ee3e1f3c",
   "metadata": {
    "tags": []
   },
   "outputs": [],
   "source": [
    "from mechanics import NormalMaze"
   ]
  },
  {
   "cell_type": "code",
   "execution_count": 6,
   "id": "66ed1493-fce4-462a-bd38-711eb5ab19ba",
   "metadata": {
    "tags": []
   },
   "outputs": [
    {
     "data": {
      "text/plain": [
       "True"
      ]
     },
     "execution_count": 6,
     "metadata": {},
     "output_type": "execute_result"
    }
   ],
   "source": [
    "NormalMaze == NormalMaze"
   ]
  },
  {
   "cell_type": "code",
   "execution_count": 10,
   "id": "bc5c3f9a-a179-4c59-9d1c-2a3d9cbaa441",
   "metadata": {
    "tags": []
   },
   "outputs": [
    {
     "data": {
      "text/plain": [
       "enum.EnumMeta"
      ]
     },
     "execution_count": 10,
     "metadata": {},
     "output_type": "execute_result"
    }
   ],
   "source": [
    "from enum import Enum\n",
    "class Foo(Enum):\n",
    "    a = 1\n",
    "\n",
    "type(Foo)"
   ]
  },
  {
   "cell_type": "code",
   "execution_count": 8,
   "id": "49d34358-37e8-4fe8-ace9-bf5bbdd22e74",
   "metadata": {
    "tags": []
   },
   "outputs": [
    {
     "data": {
      "text/plain": [
       "array([0., 0., 0., 0., 0., 0., 0., 0., 0.])"
      ]
     },
     "execution_count": 8,
     "metadata": {},
     "output_type": "execute_result"
    }
   ],
   "source": [
    "a = np.zeros((3, 3)).flatten()\n",
    "a"
   ]
  },
  {
   "cell_type": "code",
   "execution_count": 7,
   "id": "955491a7-157e-42b5-8aad-3a616acd8d8c",
   "metadata": {
    "tags": []
   },
   "outputs": [
    {
     "name": "stdout",
     "output_type": "stream",
     "text": [
      "-3\n",
      "-2\n",
      "-1\n",
      "0\n",
      "1\n",
      "2\n",
      "3\n"
     ]
    }
   ],
   "source": [
    "for i in range(-3, 4):\n",
    "    print(i)"
   ]
  },
  {
   "cell_type": "code",
   "execution_count": 28,
   "id": "da971796-3e4d-48b0-bfea-ef5590ffab66",
   "metadata": {
    "tags": []
   },
   "outputs": [
    {
     "data": {
      "text/plain": [
       "(1, [(2, 2), (2, 3)])"
      ]
     },
     "execution_count": 28,
     "metadata": {},
     "output_type": "execute_result"
    }
   ],
   "source": [
    "from pathfinding import dfs\n",
    "dfs(env.maze, tuple(env._agent_location), tuple(env._target_location))"
   ]
  },
  {
   "cell_type": "code",
   "execution_count": 12,
   "id": "bf07ef98-8867-42f2-afc6-3d2a50b5449c",
   "metadata": {
    "tags": []
   },
   "outputs": [
    {
     "data": {
      "text/plain": [
       "2"
      ]
     },
     "execution_count": 12,
     "metadata": {},
     "output_type": "execute_result"
    }
   ],
   "source": [
    "ActionSpace.direction_to_action[(-1, 0)]"
   ]
  },
  {
   "cell_type": "code",
   "execution_count": 29,
   "id": "21ddfac2-361a-4377-973b-d8ab65a89c56",
   "metadata": {
    "tags": []
   },
   "outputs": [
    {
     "name": "stdout",
     "output_type": "stream",
     "text": [
      "path = [(2, 2), (2, 3)]\n",
      "Shortest path took 1 moves\n"
     ]
    }
   ],
   "source": [
    "env.solve()"
   ]
  },
  {
   "cell_type": "code",
   "execution_count": 27,
   "id": "622f1bde-64c8-43af-a629-a7120f94fd87",
   "metadata": {
    "tags": []
   },
   "outputs": [
    {
     "data": {
      "text/plain": [
       "({'agent': array([2, 2]), 'target': array([2, 3])},\n",
       " 0,\n",
       " False,\n",
       " False,\n",
       " {'distance': 1.0})"
      ]
     },
     "execution_count": 27,
     "metadata": {},
     "output_type": "execute_result"
    }
   ],
   "source": [
    "env.step(1)"
   ]
  },
  {
   "cell_type": "code",
   "execution_count": 12,
   "id": "fca67878-3221-4967-9fe0-5b0b788046b6",
   "metadata": {
    "tags": []
   },
   "outputs": [],
   "source": [
    "from queue import PriorityQueue\n",
    "from maze import Maze\n",
    "from maze_env import ActionSpace\n",
    "\n",
    "\n",
    "def dfs(maze: Maze, start, goal):\n",
    "    \"\"\"\n",
    "    depth-first-search\n",
    "    :param maze_game: the GameMaze instance\n",
    "    :param start: tuple (x,y) of start position\n",
    "    :param goal: tuple (x,y) of the goal position\n",
    "    :return: list containing the path\n",
    "    \"\"\"\n",
    "    stack = [(start, [start])]\n",
    "\n",
    "    possible_path = PriorityQueue()\n",
    "\n",
    "    directions = [(-1, 0), (1, 0), (0, 1), (0, -1)]\n",
    "\n",
    "    while stack:\n",
    "        (vertex, path) = stack.pop()\n",
    "        x, y = vertex\n",
    "        legal_cells = [(x + dx, y + dy) for (dx, dy) in directions if 0 <= (x + dx) < maze.width and 0 <= (y + dy) < maze.height and maze.grid[x, y] == 0]\n",
    "        legal_cells = set(legal_cells) - set(path)\n",
    "        for next in legal_cells:\n",
    "            if next == goal:\n",
    "                full_path = path + [next]\n",
    "                length = len(path)\n",
    "                possible_path.put((length, full_path))\n",
    "            else:\n",
    "                stack.append((next, path + [next]))\n",
    "\n",
    "    return possible_path.get()"
   ]
  },
  {
   "cell_type": "code",
   "execution_count": 18,
   "id": "49049c9d-78cf-4109-a171-b562cabff69c",
   "metadata": {
    "tags": []
   },
   "outputs": [
    {
     "data": {
      "text/plain": [
       "True"
      ]
     },
     "execution_count": 18,
     "metadata": {},
     "output_type": "execute_result"
    }
   ],
   "source": [
    "(0, 0) <= (0, 2) <= (4, 4)"
   ]
  },
  {
   "cell_type": "code",
   "execution_count": 19,
   "id": "f3bfe9af-6c5f-46fb-9a82-73152b97e99f",
   "metadata": {
    "tags": []
   },
   "outputs": [
    {
     "data": {
      "text/plain": [
       "0.0"
      ]
     },
     "execution_count": 19,
     "metadata": {},
     "output_type": "execute_result"
    }
   ],
   "source": [
    "np.zeros((3, 3))[(0, 0)]"
   ]
  },
  {
   "cell_type": "code",
   "execution_count": null,
   "id": "ab86ce15-8f30-4bd7-b864-ea65b8c52f3a",
   "metadata": {},
   "outputs": [],
   "source": [
    "for (dx, dy) in ActionSpace.directions:\n",
    "    if 0 <= (x + dx) < self.width and 0 <= (y + dy) < self.height and self.grid[x, y] == 0:\n",
    "        cells.append((x, y))\n"
   ]
  },
  {
   "cell_type": "code",
   "execution_count": 16,
   "id": "0fa10870-8104-47d8-a670-069a45182545",
   "metadata": {
    "tags": []
   },
   "outputs": [
    {
     "data": {
      "text/plain": [
       "[(0, -1), (0, 1), (-1, 0), (1, 0)]"
      ]
     },
     "execution_count": 16,
     "metadata": {},
     "output_type": "execute_result"
    }
   ],
   "source": [
    "from maze import ActionSpace\n",
    "ActionSpace.directions"
   ]
  },
  {
   "cell_type": "code",
   "execution_count": 15,
   "id": "0704f694-2ea0-440d-9509-06d0c0bb1492",
   "metadata": {
    "tags": []
   },
   "outputs": [
    {
     "data": {
      "text/plain": [
       "[(2, 0), (2, 0), (2, 0)]"
      ]
     },
     "execution_count": 15,
     "metadata": {},
     "output_type": "execute_result"
    }
   ],
   "source": [
    "env.maze.legal_cells(*tuple(env._agent_location))"
   ]
  },
  {
   "cell_type": "code",
   "execution_count": 11,
   "id": "fba07f5d-93e3-416a-8e19-4495e8a93634",
   "metadata": {
    "tags": []
   },
   "outputs": [],
   "source": [
    "from queue import PriorityQueue\n",
    "from maze import Maze\n",
    "\n",
    "\n",
    "def dfs(maze: Maze, start, goal):\n",
    "    \"\"\"\n",
    "    depth-first-search\n",
    "    :param maze_game: the GameMaze instance\n",
    "    :param start: tuple (x,y) of start position\n",
    "    :param goal: tuple (x,y) of the goal position\n",
    "    :return: list containing the path\n",
    "    \"\"\"\n",
    "    stack = [(start, [start])]\n",
    "    possible_path = PriorityQueue()\n",
    "\n",
    "    while stack:\n",
    "        (vertex, path) = stack.pop()\n",
    "        # get legal unvisited neighbors\n",
    "        legal_cells = set(maze.legal_cells(*vertex)) - set(path)\n",
    "        for next in legal_cells:\n",
    "            if next == goal:\n",
    "                full_path = path + [next]\n",
    "                length = len(path)\n",
    "                possible_path.put((length, full_path))\n",
    "            else:\n",
    "                stack.append((next, path + [next]))\n",
    "\n",
    "    return possible_path.get()"
   ]
  },
  {
   "cell_type": "code",
   "execution_count": 13,
   "id": "2ea07f25-8798-4c96-b0e4-95e50dd77918",
   "metadata": {
    "tags": []
   },
   "outputs": [
    {
     "data": {
      "text/plain": [
       "(4, [(2, 0), (3, 0), (4, 0), (4, 1), (4, 2)])"
      ]
     },
     "execution_count": 13,
     "metadata": {},
     "output_type": "execute_result"
    }
   ],
   "source": [
    "path = dfs(env.maze, tuple(env._agent_location), tuple(env._target_location))\n",
    "path"
   ]
  },
  {
   "cell_type": "code",
   "execution_count": 11,
   "id": "a3f7175c-dc47-43c2-94f7-6745478676d1",
   "metadata": {
    "tags": []
   },
   "outputs": [
    {
     "data": {
      "text/plain": [
       "array([0, 3])"
      ]
     },
     "execution_count": 11,
     "metadata": {},
     "output_type": "execute_result"
    }
   ],
   "source": [
    "env._agent_location"
   ]
  },
  {
   "cell_type": "code",
   "execution_count": 7,
   "id": "41a6c27b-cf28-4a1c-b595-997714b5b661",
   "metadata": {
    "tags": []
   },
   "outputs": [
    {
     "ename": "TypeError",
     "evalue": "'bool' object is not iterable",
     "output_type": "error",
     "traceback": [
      "\u001b[0;31m---------------------------------------------------------------------------\u001b[0m",
      "\u001b[0;31mTypeError\u001b[0m                                 Traceback (most recent call last)",
      "Cell \u001b[0;32mIn[7], line 1\u001b[0m\n\u001b[0;32m----> 1\u001b[0m \u001b[38;5;28;43mall\u001b[39;49m\u001b[43m(\u001b[49m\u001b[43m(\u001b[49m\u001b[38;5;241;43m0\u001b[39;49m\u001b[43m,\u001b[49m\u001b[43m \u001b[49m\u001b[38;5;241;43m4\u001b[39;49m\u001b[43m)\u001b[49m\u001b[43m \u001b[49m\u001b[38;5;241;43m<\u001b[39;49m\u001b[43m \u001b[49m\u001b[43m(\u001b[49m\u001b[38;5;241;43m5\u001b[39;49m\u001b[43m,\u001b[49m\u001b[43m \u001b[49m\u001b[38;5;241;43m4\u001b[39;49m\u001b[43m)\u001b[49m\u001b[43m)\u001b[49m\n",
      "\u001b[0;31mTypeError\u001b[0m: 'bool' object is not iterable"
     ]
    }
   ],
   "source": [
    "all((0, 4) < (5, 4))"
   ]
  },
  {
   "cell_type": "code",
   "execution_count": 3,
   "id": "39753b8c-d8d5-458d-bcbd-80d83da0fe53",
   "metadata": {
    "tags": []
   },
   "outputs": [
    {
     "name": "stdout",
     "output_type": "stream",
     "text": [
      "path = [(0, 4), (1, 4), (2, 4), (2, 3), (2, 2), (2, 1), (2, 0), (1, 0), (0, 0), (0, 1)]\n"
     ]
    },
    {
     "ename": "KeyError",
     "evalue": "(0, 0)",
     "output_type": "error",
     "traceback": [
      "\u001b[0;31m---------------------------------------------------------------------------\u001b[0m",
      "\u001b[0;31mKeyError\u001b[0m                                  Traceback (most recent call last)",
      "Cell \u001b[0;32mIn[3], line 1\u001b[0m\n\u001b[0;32m----> 1\u001b[0m \u001b[43menv\u001b[49m\u001b[38;5;241;43m.\u001b[39;49m\u001b[43msolve\u001b[49m\u001b[43m(\u001b[49m\u001b[43m)\u001b[49m\n",
      "File \u001b[0;32m~/git/deep_maze/cair_maze/maze_env.py:84\u001b[0m, in \u001b[0;36mMazeEnv.solve\u001b[0;34m(self)\u001b[0m\n\u001b[1;32m     82\u001b[0m \u001b[38;5;28;01mfor\u001b[39;00m cell \u001b[38;5;129;01min\u001b[39;00m path:\n\u001b[1;32m     83\u001b[0m     dx, dy \u001b[38;5;241m=\u001b[39m np\u001b[38;5;241m.\u001b[39marray(cell) \u001b[38;5;241m-\u001b[39m \u001b[38;5;28mself\u001b[39m\u001b[38;5;241m.\u001b[39m_agent_location\n\u001b[0;32m---> 84\u001b[0m     action \u001b[38;5;241m=\u001b[39m \u001b[43mActionSpace\u001b[49m\u001b[38;5;241;43m.\u001b[39;49m\u001b[43mdirection_to_action\u001b[49m\u001b[43m[\u001b[49m\u001b[43m(\u001b[49m\u001b[43mdx\u001b[49m\u001b[43m,\u001b[49m\u001b[43m \u001b[49m\u001b[43mdy\u001b[49m\u001b[43m)\u001b[49m\u001b[43m]\u001b[49m\n\u001b[1;32m     85\u001b[0m     \u001b[38;5;28mself\u001b[39m\u001b[38;5;241m.\u001b[39mstep(action)\n\u001b[1;32m     86\u001b[0m \u001b[38;5;28mprint\u001b[39m(\u001b[38;5;124m\"\u001b[39m\u001b[38;5;124mShortest path took\u001b[39m\u001b[38;5;124m\"\u001b[39m, path_length, \u001b[38;5;124m\"\u001b[39m\u001b[38;5;124mmoves\u001b[39m\u001b[38;5;124m\"\u001b[39m)\n",
      "\u001b[0;31mKeyError\u001b[0m: (0, 0)"
     ]
    }
   ],
   "source": [
    "env.solve()"
   ]
  },
  {
   "cell_type": "code",
   "execution_count": 5,
   "id": "ba672a94-881f-4c5e-b7a3-c31a22a2c1d9",
   "metadata": {
    "tags": []
   },
   "outputs": [
    {
     "data": {
      "text/plain": [
       "[(0, 0), (0, 1), (1, 0), (1, 1), (2, 0), (2, 1)]"
      ]
     },
     "execution_count": 5,
     "metadata": {},
     "output_type": "execute_result"
    }
   ],
   "source": [
    "[(i, j) for i in range(3) for j in range(2)]"
   ]
  },
  {
   "cell_type": "code",
   "execution_count": 14,
   "id": "77436198-c817-4720-b1ce-d4a70a03c115",
   "metadata": {
    "tags": []
   },
   "outputs": [],
   "source": [
    "import os\n",
    "import pygame\n",
    "x = 0\n",
    "y = 45\n",
    "os.environ['SDL_VIDEO_WINDOW_POS'] = \"%d,%d\" % (x,y)\n",
    "pygame.init()\n",
    "screen = pygame.display.set_mode((500, 500))"
   ]
  },
  {
   "cell_type": "code",
   "execution_count": 15,
   "id": "916778bd-3185-4018-94d2-cf0bf24da20f",
   "metadata": {
    "tags": []
   },
   "outputs": [],
   "source": [
    "import pygame\n",
    "\n",
    "pygame.init()\n",
    "\n",
    "white = (255,255,255)\n",
    "black = (0,0,0)\n",
    "\n",
    "red = (255,0,0)\n",
    "green = (0,255,0)\n",
    "blue = (0,0,255)\n",
    "\n",
    "screen = pygame.display.set_mode([500, 500])\n",
    "screen.fill(white)\n",
    "pygame.display.update()"
   ]
  },
  {
   "cell_type": "code",
   "execution_count": 17,
   "id": "af638cea-5bcd-4be7-81a3-d8c9745e3fa6",
   "metadata": {
    "tags": []
   },
   "outputs": [],
   "source": [
    "import numpy as np\n",
    "tile_size = np.array([100, 100])"
   ]
  },
  {
   "cell_type": "code",
   "execution_count": 19,
   "id": "3628cc83-3bd4-4999-b395-d14e014a4bfd",
   "metadata": {
    "tags": []
   },
   "outputs": [],
   "source": [
    "loc = (4, 4)\n",
    "pygame.draw.rect(\n",
    "    screen,\n",
    "    black,\n",
    "    pygame.Rect(\n",
    "        tile_size * loc,\n",
    "        tuple(tile_size)\n",
    "    ),\n",
    ")\n",
    "pygame.display.update()"
   ]
  },
  {
   "cell_type": "code",
   "execution_count": 19,
   "id": "d6f3b152-f4a5-4545-8de4-283a5759587f",
   "metadata": {
    "tags": []
   },
   "outputs": [],
   "source": [
    "d = {\n",
    "    0: np.array([0, -1]), # up\n",
    "    1: np.array([0, 1]),  # down\n",
    "    2: np.array([-1, 0]), # left\n",
    "    3: np.array([1, 0]),  # right\n",
    "}"
   ]
  },
  {
   "cell_type": "code",
   "execution_count": 44,
   "id": "99db8268-58e1-4630-8bc7-3b0e2404c936",
   "metadata": {
    "tags": []
   },
   "outputs": [
    {
     "data": {
      "text/plain": [
       "True"
      ]
     },
     "execution_count": 44,
     "metadata": {},
     "output_type": "execute_result"
    }
   ],
   "source": [
    "np.ones(2).shape == (2,)"
   ]
  },
  {
   "cell_type": "code",
   "execution_count": 46,
   "id": "8bc5706f-94ed-4e18-b090-8ca12d2dd830",
   "metadata": {
    "tags": []
   },
   "outputs": [
    {
     "data": {
      "text/plain": [
       "numpy.ndarray"
      ]
     },
     "execution_count": 46,
     "metadata": {},
     "output_type": "execute_result"
    }
   ],
   "source": [
    "type(np.ones(2))"
   ]
  },
  {
   "cell_type": "code",
   "execution_count": 42,
   "id": "1cfd3273-8ad5-4258-bed6-7d133316ac20",
   "metadata": {
    "tags": []
   },
   "outputs": [
    {
     "data": {
      "text/plain": [
       "False"
      ]
     },
     "execution_count": 42,
     "metadata": {},
     "output_type": "execute_result"
    }
   ],
   "source": [
    "np.array_equal(np.ones(2), (1, 1, 1))"
   ]
  },
  {
   "cell_type": "code",
   "execution_count": 39,
   "id": "5b56d745-0a32-437c-99c0-d672844e601d",
   "metadata": {
    "tags": []
   },
   "outputs": [
    {
     "ename": "AttributeError",
     "evalue": "'numpy.ndarray' object has no attribute 'array_equiv'",
     "output_type": "error",
     "traceback": [
      "\u001b[0;31m---------------------------------------------------------------------------\u001b[0m",
      "\u001b[0;31mAttributeError\u001b[0m                            Traceback (most recent call last)",
      "Cell \u001b[0;32mIn[39], line 1\u001b[0m\n\u001b[0;32m----> 1\u001b[0m \u001b[43mnp\u001b[49m\u001b[38;5;241;43m.\u001b[39;49m\u001b[43mones\u001b[49m\u001b[43m(\u001b[49m\u001b[38;5;241;43m2\u001b[39;49m\u001b[43m)\u001b[49m\u001b[38;5;241;43m.\u001b[39;49m\u001b[43marray_equiv\u001b[49m((\u001b[38;5;241m1\u001b[39m, \u001b[38;5;241m1\u001b[39m))\n",
      "\u001b[0;31mAttributeError\u001b[0m: 'numpy.ndarray' object has no attribute 'array_equiv'"
     ]
    }
   ],
   "source": [
    "np.ones(2).array_equiv((1, 1))"
   ]
  },
  {
   "cell_type": "code",
   "execution_count": 37,
   "id": "909d1523-1414-4440-9c35-790cc140fc7f",
   "metadata": {
    "tags": []
   },
   "outputs": [
    {
     "data": {
      "text/plain": [
       "True"
      ]
     },
     "execution_count": 37,
     "metadata": {},
     "output_type": "execute_result"
    }
   ],
   "source": [
    "type(np.ones(2)) == np.ndarray"
   ]
  },
  {
   "cell_type": "code",
   "execution_count": 33,
   "id": "c65310ad-dc03-4706-a798-aa2a24b7f4fb",
   "metadata": {
    "tags": []
   },
   "outputs": [
    {
     "data": {
      "text/plain": [
       "[(0, -1), (0, 1), (-1, 0), (1, 0)]"
      ]
     },
     "execution_count": 33,
     "metadata": {},
     "output_type": "execute_result"
    }
   ],
   "source": [
    "list(map(tuple, d.values()))"
   ]
  },
  {
   "cell_type": "code",
   "execution_count": 47,
   "id": "05f98062-a2f0-4141-aa6f-f0dac7ffcd55",
   "metadata": {
    "tags": []
   },
   "outputs": [],
   "source": [
    "from gymnasium import spaces"
   ]
  },
  {
   "cell_type": "code",
   "execution_count": 48,
   "id": "cc140b30-e20d-4e50-b8fb-efaebd9cba98",
   "metadata": {
    "tags": []
   },
   "outputs": [],
   "source": [
    "s = spaces.Discrete(4)"
   ]
  }
 ],
 "metadata": {
  "kernelspec": {
   "display_name": "Python 3 (ipykernel)",
   "language": "python",
   "name": "python3"
  },
  "language_info": {
   "codemirror_mode": {
    "name": "ipython",
    "version": 3
   },
   "file_extension": ".py",
   "mimetype": "text/x-python",
   "name": "python",
   "nbconvert_exporter": "python",
   "pygments_lexer": "ipython3",
   "version": "3.10.11"
  }
 },
 "nbformat": 4,
 "nbformat_minor": 5
}
