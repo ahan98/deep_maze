{
 "cells": [
  {
   "cell_type": "code",
   "execution_count": 12,
   "id": "6c0c7d7e-fada-46dd-8873-2e3b292d4057",
   "metadata": {},
   "outputs": [
    {
     "data": {
      "text/plain": [
       "MazeOptions(width=5, height=5, algorithm='randomized_prim', render_mode='jupyter', colors=Colors(agent=<Color.RED: (255, 0, 0)>, target=<Color.GREEN: (0, 255, 0)>, fog=<Color.GRAY: (128, 128, 128)>, wall=<Color.BLACK: (0, 0, 0)>, background=<Color.WHITE: (255, 255, 255)>), image_size=(84, 84), window_height=300, radius=None)"
      ]
     },
     "execution_count": 12,
     "metadata": {},
     "output_type": "execute_result"
    }
   ],
   "source": [
    "from cair_maze.envs.maze_env import MazeOptions\n",
    "\n",
    "options = MazeOptions(render_mode=\"jupyter\", radius=None, width=5, height=5)\n",
    "options"
   ]
  },
  {
   "cell_type": "code",
   "execution_count": 13,
   "id": "1c01d7f8-4577-4e79-b344-809823954979",
   "metadata": {},
   "outputs": [],
   "source": [
    "# import gymnasium as gym\n",
    "# from gymnasium.utils.env_checker import check_env\n",
    "\n",
    "import gym\n",
    "from gym.utils.env_checker import check_env\n",
    "\n",
    "env = gym.make(\"cair_maze:MazeEnv-v0\")# options=options)\n",
    "# env = gym.make(\"cair_maze:MazeEnv-v0\", options=options)\n",
    "check_env(env, warn=True)"
   ]
  },
  {
   "cell_type": "code",
   "execution_count": 14,
   "id": "0ded4241-6b18-4d44-a455-daa833ad47fa",
   "metadata": {},
   "outputs": [],
   "source": [
    "import gymnasium as gym\n",
    "\n",
    "from stable_baselines3 import A2C, PPO, DQN"
   ]
  },
  {
   "cell_type": "code",
   "execution_count": 18,
   "id": "eed00b15-d4d2-441a-9717-a3ecbfc59ac4",
   "metadata": {
    "tags": []
   },
   "outputs": [
    {
     "data": {
      "text/plain": [
       "<stable_baselines3.dqn.dqn.DQN at 0x29f2b25f0>"
      ]
     },
     "execution_count": 18,
     "metadata": {},
     "output_type": "execute_result"
    }
   ],
   "source": [
    "# model = A2C('MultiInputPolicy', env, verbose=0)\n",
    "# model = PPO('MultiInputPolicy', env, verbose=0)\n",
    "model = DQN('MultiInputPolicy', env, verbose=0)\n",
    "model.learn(total_timesteps=10000, log_interval=4)"
   ]
  },
  {
   "cell_type": "code",
   "execution_count": 7,
   "id": "6f56dc2c-0024-4e04-8f26-d2254ba69546",
   "metadata": {},
   "outputs": [
    {
     "data": {
      "text/plain": [
       "<stable_baselines3.dqn.dqn.DQN at 0x176280d60>"
      ]
     },
     "execution_count": 4,
     "metadata": {},
     "output_type": "execute_result"
    }
   ],
   "source": [
    "model = DQN('MultiInputPolicy', env, verbose=0)\n",
    "model.learn(total_timesteps=5000, log_interval=4)"
   ]
  },
  {
   "cell_type": "code",
   "execution_count": null,
   "id": "4e9fdb00-35eb-4bb3-9fbc-6d71d7610d29",
   "metadata": {},
   "outputs": [],
   "source": [
    "# At state s, take action a, observe o, go to next state s+"
   ]
  },
  {
   "cell_type": "code",
   "execution_count": 21,
   "id": "e0164478-52da-46fa-9654-a477044280ca",
   "metadata": {},
   "outputs": [],
   "source": [
    "# (s_t, a_t, r_t, o_t, s_t+1)"
   ]
  },
  {
   "cell_type": "code",
   "execution_count": null,
   "id": "e740fee2-3884-4f56-b6f4-e8515c2f92bf",
   "metadata": {},
   "outputs": [],
   "source": [
    "# Draw B data sequences of length L\n",
    "# Data sequence\n",
    "# From: state s_{t-1}\n",
    "# Take: action a_{t-1}\n",
    "# Observe: reward r_{t-1}, outcome o_t\n",
    "# Go to: state s_t"
   ]
  },
  {
   "cell_type": "code",
   "execution_count": null,
   "id": "f90311f5-2945-4fd9-996a-48fc092c914f",
   "metadata": {},
   "outputs": [],
   "source": [
    "obs, info = env.reset()\n",
    "while True:\n",
    "    action, _states = model.predict(obs, deterministic=True)\n",
    "    obs, reward, terminated, truncated, info = env.step(action)\n",
    "    if terminated or truncated:\n",
    "        obs, info = env.reset()"
   ]
  },
  {
   "cell_type": "code",
   "execution_count": null,
   "id": "f9564ed1-46dc-4ef1-8b19-8e086ffa9637",
   "metadata": {},
   "outputs": [],
   "source": [
    "# s_{t-1} -> a_{t-1} -> o_t, r_t, s_t"
   ]
  },
  {
   "cell_type": "code",
   "execution_count": 5,
   "id": "554fce9d-3158-4555-b80d-c087e4acb422",
   "metadata": {},
   "outputs": [
    {
     "data": {
      "image/png": "[encoded data removed]",
      "text/plain": [
       "<Figure size 640x480 with 1 Axes>"
      ]
     },
     "metadata": {},
     "output_type": "display_data"
    },
    {
     "data": {
      "text/plain": [
       "<stable_baselines3.dqn.dqn.DQN at 0x164d50400>"
      ]
     },
     "execution_count": 5,
     "metadata": {},
     "output_type": "execute_result"
    }
   ],
   "source": [
    "from stable_baselines3 import DQN\n",
    "\n",
    "model = DQN(\"MultiInputPolicy\", env, verbose=1)\n",
    "model.learn(total_timesteps=100, log_interval=4)\n",
    "# model.save(\"dqn_cartpole\")\n",
    "\n",
    "# del model # remove to demonstrate saving and loading\n",
    "\n",
    "# model = DQN.load(\"dqn_cartpole\")\n",
    "\n",
    "# obs, info = env.reset()\n",
    "# while True:\n",
    "#     action, _states = model.predict(obs, deterministic=True)\n",
    "#     obs, reward, terminated, truncated, info = env.step(action)\n",
    "#     if terminated or truncated:\n",
    "#         obs, info = env.reset()"
   ]
  }
 ],
 "metadata": {
  "kernelspec": {
   "display_name": "Python 3 (ipykernel)",
   "language": "python",
   "name": "python3"
  },
  "language_info": {
   "codemirror_mode": {
    "name": "ipython",
    "version": 3
   },
   "file_extension": ".py",
   "mimetype": "text/x-python",
   "name": "python",
   "nbconvert_exporter": "python",
   "pygments_lexer": "ipython3",
   "version": "3.10.9"
  }
 },
 "nbformat": 4,
 "nbformat_minor": 5
}
